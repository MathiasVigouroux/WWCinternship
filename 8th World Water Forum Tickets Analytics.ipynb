{
 "cells": [
  {
   "cell_type": "markdown",
   "metadata": {},
   "source": [
    "# 8th World Water Foum tickets analytics"
   ]
  },
  {
   "cell_type": "code",
   "execution_count": 2,
   "metadata": {},
   "outputs": [],
   "source": [
    "import pandas as pd\n",
    "import numpy as np"
   ]
  },
  {
   "cell_type": "markdown",
   "metadata": {},
   "source": [
    "gyjll"
   ]
  },
  {
   "cell_type": "code",
   "execution_count": 3,
   "metadata": {},
   "outputs": [],
   "source": [
    "tickets=pd.read_csv(r'/Users/mathias/Downloads/8thForumReduced.csv',index_col=0)"
   ]
  },
  {
   "cell_type": "code",
   "execution_count": 4,
   "metadata": {},
   "outputs": [
    {
     "data": {
      "text/html": [
       "<div>\n",
       "<style scoped>\n",
       "    .dataframe tbody tr th:only-of-type {\n",
       "        vertical-align: middle;\n",
       "    }\n",
       "\n",
       "    .dataframe tbody tr th {\n",
       "        vertical-align: top;\n",
       "    }\n",
       "\n",
       "    .dataframe thead th {\n",
       "        text-align: right;\n",
       "    }\n",
       "</style>\n",
       "<table border=\"1\" class=\"dataframe\">\n",
       "  <thead>\n",
       "    <tr style=\"text-align: right;\">\n",
       "      <th></th>\n",
       "      <th>Unnamed: 1</th>\n",
       "      <th>Unnamed: 2</th>\n",
       "      <th>Unnamed: 3</th>\n",
       "    </tr>\n",
       "  </thead>\n",
       "  <tbody>\n",
       "    <tr>\n",
       "      <th>TRANSACTION DATE</th>\n",
       "      <td>POSITION</td>\n",
       "      <td>TYPE OF INSTITUTION</td>\n",
       "      <td>COUNTRY</td>\n",
       "    </tr>\n",
       "    <tr>\n",
       "      <th>10/26/17</th>\n",
       "      <td>OTHER: UNIVERSIDADE ESTADUAL</td>\n",
       "      <td>ACADEMY</td>\n",
       "      <td>BRAZIL</td>\n",
       "    </tr>\n",
       "    <tr>\n",
       "      <th>10/27/17</th>\n",
       "      <td>OTHER: UNIVERSITY</td>\n",
       "      <td>ACADEMY</td>\n",
       "      <td>BRAZIL</td>\n",
       "    </tr>\n",
       "    <tr>\n",
       "      <th>10/29/17</th>\n",
       "      <td>OTHER: IRRIGATION AND WATER RESOURCE DEVELOPME...</td>\n",
       "      <td>CIVIL SOCIETY</td>\n",
       "      <td>NEPAL</td>\n",
       "    </tr>\n",
       "    <tr>\n",
       "      <th>10/30/17</th>\n",
       "      <td>CEO</td>\n",
       "      <td>CIVIL SOCIETY</td>\n",
       "      <td>PAKISTAN</td>\n",
       "    </tr>\n",
       "  </tbody>\n",
       "</table>\n",
       "</div>"
      ],
      "text/plain": [
       "                                                         Unnamed: 1  \\\n",
       "TRANSACTION DATE                                           POSITION   \n",
       "10/26/17                               OTHER: UNIVERSIDADE ESTADUAL   \n",
       "10/27/17                                          OTHER: UNIVERSITY   \n",
       "10/29/17          OTHER: IRRIGATION AND WATER RESOURCE DEVELOPME...   \n",
       "10/30/17                                                        CEO   \n",
       "\n",
       "                           Unnamed: 2 Unnamed: 3  \n",
       "TRANSACTION DATE  TYPE OF INSTITUTION    COUNTRY  \n",
       "10/26/17                      ACADEMY     BRAZIL  \n",
       "10/27/17                      ACADEMY     BRAZIL  \n",
       "10/29/17                CIVIL SOCIETY      NEPAL  \n",
       "10/30/17                CIVIL SOCIETY   PAKISTAN  "
      ]
     },
     "execution_count": 4,
     "metadata": {},
     "output_type": "execute_result"
    }
   ],
   "source": [
    "tickets.head()"
   ]
  },
  {
   "cell_type": "code",
   "execution_count": 5,
   "metadata": {},
   "outputs": [
    {
     "name": "stdout",
     "output_type": "stream",
     "text": [
      "7068\n"
     ]
    }
   ],
   "source": [
    "print(len(tickets))"
   ]
  },
  {
   "cell_type": "code",
   "execution_count": 6,
   "metadata": {},
   "outputs": [
    {
     "data": {
      "text/html": [
       "<div>\n",
       "<style scoped>\n",
       "    .dataframe tbody tr th:only-of-type {\n",
       "        vertical-align: middle;\n",
       "    }\n",
       "\n",
       "    .dataframe tbody tr th {\n",
       "        vertical-align: top;\n",
       "    }\n",
       "\n",
       "    .dataframe thead th {\n",
       "        text-align: right;\n",
       "    }\n",
       "</style>\n",
       "<table border=\"1\" class=\"dataframe\">\n",
       "  <thead>\n",
       "    <tr style=\"text-align: right;\">\n",
       "      <th></th>\n",
       "      <th>Unnamed: 1</th>\n",
       "      <th>Unnamed: 2</th>\n",
       "      <th>Unnamed: 3</th>\n",
       "      <th>Purchase date</th>\n",
       "    </tr>\n",
       "  </thead>\n",
       "  <tbody>\n",
       "    <tr>\n",
       "      <th>10/26/17</th>\n",
       "      <td>OTHER: UNIVERSIDADE ESTADUAL</td>\n",
       "      <td>ACADEMY</td>\n",
       "      <td>BRAZIL</td>\n",
       "      <td>0</td>\n",
       "    </tr>\n",
       "    <tr>\n",
       "      <th>10/27/17</th>\n",
       "      <td>OTHER: UNIVERSITY</td>\n",
       "      <td>ACADEMY</td>\n",
       "      <td>BRAZIL</td>\n",
       "      <td>1</td>\n",
       "    </tr>\n",
       "    <tr>\n",
       "      <th>10/29/17</th>\n",
       "      <td>OTHER: IRRIGATION AND WATER RESOURCE DEVELOPME...</td>\n",
       "      <td>CIVIL SOCIETY</td>\n",
       "      <td>NEPAL</td>\n",
       "      <td>2</td>\n",
       "    </tr>\n",
       "    <tr>\n",
       "      <th>10/30/17</th>\n",
       "      <td>CEO</td>\n",
       "      <td>CIVIL SOCIETY</td>\n",
       "      <td>PAKISTAN</td>\n",
       "      <td>3</td>\n",
       "    </tr>\n",
       "    <tr>\n",
       "      <th>10/31/17</th>\n",
       "      <td>OTHER: PROFESSOR</td>\n",
       "      <td>GOVERNMENT</td>\n",
       "      <td>BRAZIL</td>\n",
       "      <td>4</td>\n",
       "    </tr>\n",
       "  </tbody>\n",
       "</table>\n",
       "</div>"
      ],
      "text/plain": [
       "                                                 Unnamed: 1     Unnamed: 2  \\\n",
       "10/26/17                       OTHER: UNIVERSIDADE ESTADUAL        ACADEMY   \n",
       "10/27/17                                  OTHER: UNIVERSITY        ACADEMY   \n",
       "10/29/17  OTHER: IRRIGATION AND WATER RESOURCE DEVELOPME...  CIVIL SOCIETY   \n",
       "10/30/17                                                CEO  CIVIL SOCIETY   \n",
       "10/31/17                                   OTHER: PROFESSOR     GOVERNMENT   \n",
       "\n",
       "         Unnamed: 3  Purchase date  \n",
       "10/26/17     BRAZIL              0  \n",
       "10/27/17     BRAZIL              1  \n",
       "10/29/17      NEPAL              2  \n",
       "10/30/17   PAKISTAN              3  \n",
       "10/31/17     BRAZIL              4  "
      ]
     },
     "execution_count": 6,
     "metadata": {},
     "output_type": "execute_result"
    }
   ],
   "source": [
    "tickets = tickets.iloc[1:]\n",
    "tickets['Purchase date']=[int(i) for i in range(len(tickets))]\n",
    "tickets.head()"
   ]
  },
  {
   "cell_type": "code",
   "execution_count": 7,
   "metadata": {},
   "outputs": [],
   "source": [
    "tickets.columns = ['Position', 'Type of institution', 'Country','Purchase date']"
   ]
  },
  {
   "cell_type": "code",
   "execution_count": 8,
   "metadata": {},
   "outputs": [],
   "source": [
    "tickets.index, tickets['Purchase date'] = tickets['Purchase date'],tickets.index"
   ]
  },
  {
   "cell_type": "code",
   "execution_count": 9,
   "metadata": {},
   "outputs": [
    {
     "data": {
      "text/html": [
       "<div>\n",
       "<style scoped>\n",
       "    .dataframe tbody tr th:only-of-type {\n",
       "        vertical-align: middle;\n",
       "    }\n",
       "\n",
       "    .dataframe tbody tr th {\n",
       "        vertical-align: top;\n",
       "    }\n",
       "\n",
       "    .dataframe thead th {\n",
       "        text-align: right;\n",
       "    }\n",
       "</style>\n",
       "<table border=\"1\" class=\"dataframe\">\n",
       "  <thead>\n",
       "    <tr style=\"text-align: right;\">\n",
       "      <th></th>\n",
       "      <th>Position</th>\n",
       "      <th>Type of institution</th>\n",
       "      <th>Country</th>\n",
       "      <th>Purchase date</th>\n",
       "    </tr>\n",
       "    <tr>\n",
       "      <th>Ticket id</th>\n",
       "      <th></th>\n",
       "      <th></th>\n",
       "      <th></th>\n",
       "      <th></th>\n",
       "    </tr>\n",
       "  </thead>\n",
       "  <tbody>\n",
       "    <tr>\n",
       "      <th>0</th>\n",
       "      <td>OTHER: UNIVERSIDADE ESTADUAL</td>\n",
       "      <td>ACADEMY</td>\n",
       "      <td>BRAZIL</td>\n",
       "      <td>10/26/17</td>\n",
       "    </tr>\n",
       "    <tr>\n",
       "      <th>1</th>\n",
       "      <td>OTHER: UNIVERSITY</td>\n",
       "      <td>ACADEMY</td>\n",
       "      <td>BRAZIL</td>\n",
       "      <td>10/27/17</td>\n",
       "    </tr>\n",
       "    <tr>\n",
       "      <th>2</th>\n",
       "      <td>OTHER: IRRIGATION AND WATER RESOURCE DEVELOPME...</td>\n",
       "      <td>CIVIL SOCIETY</td>\n",
       "      <td>NEPAL</td>\n",
       "      <td>10/29/17</td>\n",
       "    </tr>\n",
       "    <tr>\n",
       "      <th>3</th>\n",
       "      <td>CEO</td>\n",
       "      <td>CIVIL SOCIETY</td>\n",
       "      <td>PAKISTAN</td>\n",
       "      <td>10/30/17</td>\n",
       "    </tr>\n",
       "    <tr>\n",
       "      <th>4</th>\n",
       "      <td>OTHER: PROFESSOR</td>\n",
       "      <td>GOVERNMENT</td>\n",
       "      <td>BRAZIL</td>\n",
       "      <td>10/31/17</td>\n",
       "    </tr>\n",
       "  </tbody>\n",
       "</table>\n",
       "</div>"
      ],
      "text/plain": [
       "                                                    Position  \\\n",
       "Ticket id                                                      \n",
       "0                               OTHER: UNIVERSIDADE ESTADUAL   \n",
       "1                                          OTHER: UNIVERSITY   \n",
       "2          OTHER: IRRIGATION AND WATER RESOURCE DEVELOPME...   \n",
       "3                                                        CEO   \n",
       "4                                           OTHER: PROFESSOR   \n",
       "\n",
       "          Type of institution   Country Purchase date  \n",
       "Ticket id                                              \n",
       "0                     ACADEMY    BRAZIL      10/26/17  \n",
       "1                     ACADEMY    BRAZIL      10/27/17  \n",
       "2               CIVIL SOCIETY     NEPAL      10/29/17  \n",
       "3               CIVIL SOCIETY  PAKISTAN      10/30/17  \n",
       "4                  GOVERNMENT    BRAZIL      10/31/17  "
      ]
     },
     "execution_count": 9,
     "metadata": {},
     "output_type": "execute_result"
    }
   ],
   "source": [
    "tickets.index.names = ['Ticket id']\n",
    "tickets.head()"
   ]
  },
  {
   "cell_type": "code",
   "execution_count": 10,
   "metadata": {},
   "outputs": [],
   "source": [
    "position_tab= tickets['Position'].unique()"
   ]
  },
  {
   "cell_type": "code",
   "execution_count": 11,
   "metadata": {},
   "outputs": [
    {
     "name": "stdout",
     "output_type": "stream",
     "text": [
      "CEO\n",
      "MANAGER\n",
      "SYSTEMS ANALYST\n",
      "COORDINATOR\n",
      "DIRECTOR\n",
      "CHAIRMAN\n",
      "STUDENT\n",
      "TEACHER\n"
     ]
    }
   ],
   "source": [
    "for position in position_tab:\n",
    "    if type(position) == str:\n",
    "        if 'OTHER:' not in position:\n",
    "            print(position)"
   ]
  },
  {
   "cell_type": "code",
   "execution_count": 12,
   "metadata": {},
   "outputs": [
    {
     "name": "stdout",
     "output_type": "stream",
     "text": [
      "1799\n",
      "['OTHER: UNIVERSIDADE ESTADUAL', 'OTHER: UNIVERSITY', 'OTHER: IRRIGATION AND WATER RESOURCE DEVELOPMENT OFFICER', 'OTHER: PROFESSOR', 'OTHER: ESTUDANTE']\n"
     ]
    }
   ],
   "source": [
    "Others= []\n",
    "for position in position_tab:\n",
    "    if type(position) == str:\n",
    "        if 'OTHER:' in position:\n",
    "            Others.append(position)\n",
    "print(len(Others))\n",
    "print(Others[:5])"
   ]
  },
  {
   "cell_type": "code",
   "execution_count": 13,
   "metadata": {},
   "outputs": [
    {
     "data": {
      "text/html": [
       "<div>\n",
       "<style scoped>\n",
       "    .dataframe tbody tr th:only-of-type {\n",
       "        vertical-align: middle;\n",
       "    }\n",
       "\n",
       "    .dataframe tbody tr th {\n",
       "        vertical-align: top;\n",
       "    }\n",
       "\n",
       "    .dataframe thead th {\n",
       "        text-align: right;\n",
       "    }\n",
       "</style>\n",
       "<table border=\"1\" class=\"dataframe\">\n",
       "  <thead>\n",
       "    <tr style=\"text-align: right;\">\n",
       "      <th></th>\n",
       "      <th>Position</th>\n",
       "      <th>Type of institution</th>\n",
       "      <th>Country</th>\n",
       "      <th>Purchase date</th>\n",
       "    </tr>\n",
       "    <tr>\n",
       "      <th>Ticket id</th>\n",
       "      <th></th>\n",
       "      <th></th>\n",
       "      <th></th>\n",
       "      <th></th>\n",
       "    </tr>\n",
       "  </thead>\n",
       "  <tbody>\n",
       "    <tr>\n",
       "      <th>0</th>\n",
       "      <td>OTHER: UNIVERSIDADE ESTADUAL</td>\n",
       "      <td>ACADEMY</td>\n",
       "      <td>BRAZIL</td>\n",
       "      <td>10/26/17</td>\n",
       "    </tr>\n",
       "    <tr>\n",
       "      <th>1</th>\n",
       "      <td>OTHER: UNIVERSITY</td>\n",
       "      <td>ACADEMY</td>\n",
       "      <td>BRAZIL</td>\n",
       "      <td>10/27/17</td>\n",
       "    </tr>\n",
       "    <tr>\n",
       "      <th>2</th>\n",
       "      <td>OTHER: IRRIGATION AND WATER RESOURCE DEVELOPME...</td>\n",
       "      <td>CIVIL SOCIETY</td>\n",
       "      <td>NEPAL</td>\n",
       "      <td>10/29/17</td>\n",
       "    </tr>\n",
       "    <tr>\n",
       "      <th>3</th>\n",
       "      <td>CEO</td>\n",
       "      <td>CIVIL SOCIETY</td>\n",
       "      <td>PAKISTAN</td>\n",
       "      <td>10/30/17</td>\n",
       "    </tr>\n",
       "    <tr>\n",
       "      <th>4</th>\n",
       "      <td>OTHER: PROFESSOR</td>\n",
       "      <td>GOVERNMENT</td>\n",
       "      <td>BRAZIL</td>\n",
       "      <td>10/31/17</td>\n",
       "    </tr>\n",
       "  </tbody>\n",
       "</table>\n",
       "</div>"
      ],
      "text/plain": [
       "                                                    Position  \\\n",
       "Ticket id                                                      \n",
       "0                               OTHER: UNIVERSIDADE ESTADUAL   \n",
       "1                                          OTHER: UNIVERSITY   \n",
       "2          OTHER: IRRIGATION AND WATER RESOURCE DEVELOPME...   \n",
       "3                                                        CEO   \n",
       "4                                           OTHER: PROFESSOR   \n",
       "\n",
       "          Type of institution   Country Purchase date  \n",
       "Ticket id                                              \n",
       "0                     ACADEMY    BRAZIL      10/26/17  \n",
       "1                     ACADEMY    BRAZIL      10/27/17  \n",
       "2               CIVIL SOCIETY     NEPAL      10/29/17  \n",
       "3               CIVIL SOCIETY  PAKISTAN      10/30/17  \n",
       "4                  GOVERNMENT    BRAZIL      10/31/17  "
      ]
     },
     "execution_count": 13,
     "metadata": {},
     "output_type": "execute_result"
    }
   ],
   "source": [
    "tickets.head()"
   ]
  },
  {
   "cell_type": "markdown",
   "metadata": {},
   "source": [
    "Il y a beaucoup trop d''Others' différents. On va supprimer les lignes où les positions sont de type 'Other'."
   ]
  },
  {
   "cell_type": "code",
   "execution_count": 14,
   "metadata": {},
   "outputs": [
    {
     "name": "stdout",
     "output_type": "stream",
     "text": [
      "[0, 1, 2, 4, 6]\n"
     ]
    }
   ],
   "source": [
    "Other_index=[]\n",
    "for i in range(len(tickets)):\n",
    "    position = tickets.iloc[i,0]\n",
    "    if type(position) == str:\n",
    "        if 'OTHER:' in position:\n",
    "            Other_index.append(i)\n",
    "print(Other_index[:5])"
   ]
  },
  {
   "cell_type": "code",
   "execution_count": 15,
   "metadata": {},
   "outputs": [],
   "source": [
    "#print(Other_index)\n",
    "tickets_bis = tickets.drop(Other_index)"
   ]
  },
  {
   "cell_type": "code",
   "execution_count": 16,
   "metadata": {},
   "outputs": [
    {
     "name": "stdout",
     "output_type": "stream",
     "text": [
      "3405\n",
      "7067\n"
     ]
    }
   ],
   "source": [
    "print(len(tickets_bis))\n",
    "print(len(tickets))"
   ]
  },
  {
   "cell_type": "code",
   "execution_count": 17,
   "metadata": {},
   "outputs": [
    {
     "data": {
      "text/html": [
       "<div>\n",
       "<style scoped>\n",
       "    .dataframe tbody tr th:only-of-type {\n",
       "        vertical-align: middle;\n",
       "    }\n",
       "\n",
       "    .dataframe tbody tr th {\n",
       "        vertical-align: top;\n",
       "    }\n",
       "\n",
       "    .dataframe thead th {\n",
       "        text-align: right;\n",
       "    }\n",
       "</style>\n",
       "<table border=\"1\" class=\"dataframe\">\n",
       "  <thead>\n",
       "    <tr style=\"text-align: right;\">\n",
       "      <th></th>\n",
       "      <th>Position</th>\n",
       "      <th>Type of institution</th>\n",
       "      <th>Country</th>\n",
       "      <th>Purchase date</th>\n",
       "    </tr>\n",
       "    <tr>\n",
       "      <th>Ticket id</th>\n",
       "      <th></th>\n",
       "      <th></th>\n",
       "      <th></th>\n",
       "      <th></th>\n",
       "    </tr>\n",
       "  </thead>\n",
       "  <tbody>\n",
       "    <tr>\n",
       "      <th>3</th>\n",
       "      <td>CEO</td>\n",
       "      <td>CIVIL SOCIETY</td>\n",
       "      <td>PAKISTAN</td>\n",
       "      <td>10/30/17</td>\n",
       "    </tr>\n",
       "    <tr>\n",
       "      <th>5</th>\n",
       "      <td>MANAGER</td>\n",
       "      <td>CIVIL SOCIETY</td>\n",
       "      <td>INDIA</td>\n",
       "      <td>10/31/17</td>\n",
       "    </tr>\n",
       "    <tr>\n",
       "      <th>8</th>\n",
       "      <td>SYSTEMS ANALYST</td>\n",
       "      <td>PRIVATE</td>\n",
       "      <td>BRAZIL</td>\n",
       "      <td>11/1/17</td>\n",
       "    </tr>\n",
       "    <tr>\n",
       "      <th>9</th>\n",
       "      <td>SYSTEMS ANALYST</td>\n",
       "      <td>GOVERNMENT</td>\n",
       "      <td>BRAZIL</td>\n",
       "      <td>11/1/17</td>\n",
       "    </tr>\n",
       "    <tr>\n",
       "      <th>12</th>\n",
       "      <td>COORDINATOR</td>\n",
       "      <td>CIVIL SOCIETY</td>\n",
       "      <td>CAMEROON</td>\n",
       "      <td>11/1/17</td>\n",
       "    </tr>\n",
       "  </tbody>\n",
       "</table>\n",
       "</div>"
      ],
      "text/plain": [
       "                  Position Type of institution   Country Purchase date\n",
       "Ticket id                                                             \n",
       "3                      CEO       CIVIL SOCIETY  PAKISTAN      10/30/17\n",
       "5                  MANAGER       CIVIL SOCIETY     INDIA      10/31/17\n",
       "8          SYSTEMS ANALYST             PRIVATE    BRAZIL       11/1/17\n",
       "9          SYSTEMS ANALYST          GOVERNMENT    BRAZIL       11/1/17\n",
       "12             COORDINATOR       CIVIL SOCIETY  CAMEROON       11/1/17"
      ]
     },
     "execution_count": 17,
     "metadata": {},
     "output_type": "execute_result"
    }
   ],
   "source": [
    "tickets=tickets_bis\n",
    "tickets.head()"
   ]
  },
  {
   "cell_type": "code",
   "execution_count": 18,
   "metadata": {
    "scrolled": true
   },
   "outputs": [],
   "source": [
    "country_tab= tickets['Country'].unique()"
   ]
  },
  {
   "cell_type": "code",
   "execution_count": 19,
   "metadata": {},
   "outputs": [
    {
     "data": {
      "text/html": [
       "<div>\n",
       "<style scoped>\n",
       "    .dataframe tbody tr th:only-of-type {\n",
       "        vertical-align: middle;\n",
       "    }\n",
       "\n",
       "    .dataframe tbody tr th {\n",
       "        vertical-align: top;\n",
       "    }\n",
       "\n",
       "    .dataframe thead th {\n",
       "        text-align: right;\n",
       "    }\n",
       "</style>\n",
       "<table border=\"1\" class=\"dataframe\">\n",
       "  <thead>\n",
       "    <tr style=\"text-align: right;\">\n",
       "      <th></th>\n",
       "      <th>Position</th>\n",
       "      <th>Type of institution</th>\n",
       "      <th>Country</th>\n",
       "      <th>Purchase date</th>\n",
       "    </tr>\n",
       "    <tr>\n",
       "      <th>Ticket id</th>\n",
       "      <th></th>\n",
       "      <th></th>\n",
       "      <th></th>\n",
       "      <th></th>\n",
       "    </tr>\n",
       "  </thead>\n",
       "  <tbody>\n",
       "    <tr>\n",
       "      <th>3</th>\n",
       "      <td>CEO</td>\n",
       "      <td>CIVIL SOCIETY</td>\n",
       "      <td>PAKISTAN</td>\n",
       "      <td>10/30/17</td>\n",
       "    </tr>\n",
       "    <tr>\n",
       "      <th>5</th>\n",
       "      <td>MANAGER</td>\n",
       "      <td>CIVIL SOCIETY</td>\n",
       "      <td>INDIA</td>\n",
       "      <td>10/31/17</td>\n",
       "    </tr>\n",
       "    <tr>\n",
       "      <th>8</th>\n",
       "      <td>SYSTEMS ANALYST</td>\n",
       "      <td>PRIVATE</td>\n",
       "      <td>BRAZIL</td>\n",
       "      <td>11/1/17</td>\n",
       "    </tr>\n",
       "    <tr>\n",
       "      <th>9</th>\n",
       "      <td>SYSTEMS ANALYST</td>\n",
       "      <td>GOVERNMENT</td>\n",
       "      <td>BRAZIL</td>\n",
       "      <td>11/1/17</td>\n",
       "    </tr>\n",
       "    <tr>\n",
       "      <th>12</th>\n",
       "      <td>COORDINATOR</td>\n",
       "      <td>CIVIL SOCIETY</td>\n",
       "      <td>CAMEROON</td>\n",
       "      <td>11/1/17</td>\n",
       "    </tr>\n",
       "  </tbody>\n",
       "</table>\n",
       "</div>"
      ],
      "text/plain": [
       "                  Position Type of institution   Country Purchase date\n",
       "Ticket id                                                             \n",
       "3                      CEO       CIVIL SOCIETY  PAKISTAN      10/30/17\n",
       "5                  MANAGER       CIVIL SOCIETY     INDIA      10/31/17\n",
       "8          SYSTEMS ANALYST             PRIVATE    BRAZIL       11/1/17\n",
       "9          SYSTEMS ANALYST          GOVERNMENT    BRAZIL       11/1/17\n",
       "12             COORDINATOR       CIVIL SOCIETY  CAMEROON       11/1/17"
      ]
     },
     "execution_count": 19,
     "metadata": {},
     "output_type": "execute_result"
    }
   ],
   "source": [
    "tickets.head()"
   ]
  },
  {
   "cell_type": "code",
   "execution_count": 20,
   "metadata": {},
   "outputs": [],
   "source": [
    "tickets_no_Other= tickets\n"
   ]
  },
  {
   "cell_type": "code",
   "execution_count": 21,
   "metadata": {},
   "outputs": [],
   "source": [
    "for i in range(len(tickets_no_Other)):\n",
    "    tickets_no_Other.iloc[i,2]=str(tickets_no_Other.iloc[i,2]).capitalize()"
   ]
  },
  {
   "cell_type": "code",
   "execution_count": 22,
   "metadata": {},
   "outputs": [
    {
     "data": {
      "text/html": [
       "<div>\n",
       "<style scoped>\n",
       "    .dataframe tbody tr th:only-of-type {\n",
       "        vertical-align: middle;\n",
       "    }\n",
       "\n",
       "    .dataframe tbody tr th {\n",
       "        vertical-align: top;\n",
       "    }\n",
       "\n",
       "    .dataframe thead th {\n",
       "        text-align: right;\n",
       "    }\n",
       "</style>\n",
       "<table border=\"1\" class=\"dataframe\">\n",
       "  <thead>\n",
       "    <tr style=\"text-align: right;\">\n",
       "      <th></th>\n",
       "      <th>Position</th>\n",
       "      <th>Type of institution</th>\n",
       "      <th>Country</th>\n",
       "      <th>Purchase date</th>\n",
       "    </tr>\n",
       "    <tr>\n",
       "      <th>Ticket id</th>\n",
       "      <th></th>\n",
       "      <th></th>\n",
       "      <th></th>\n",
       "      <th></th>\n",
       "    </tr>\n",
       "  </thead>\n",
       "  <tbody>\n",
       "    <tr>\n",
       "      <th>3</th>\n",
       "      <td>CEO</td>\n",
       "      <td>CIVIL SOCIETY</td>\n",
       "      <td>Pakistan</td>\n",
       "      <td>10/30/17</td>\n",
       "    </tr>\n",
       "    <tr>\n",
       "      <th>5</th>\n",
       "      <td>MANAGER</td>\n",
       "      <td>CIVIL SOCIETY</td>\n",
       "      <td>India</td>\n",
       "      <td>10/31/17</td>\n",
       "    </tr>\n",
       "    <tr>\n",
       "      <th>8</th>\n",
       "      <td>SYSTEMS ANALYST</td>\n",
       "      <td>PRIVATE</td>\n",
       "      <td>Brazil</td>\n",
       "      <td>11/1/17</td>\n",
       "    </tr>\n",
       "    <tr>\n",
       "      <th>9</th>\n",
       "      <td>SYSTEMS ANALYST</td>\n",
       "      <td>GOVERNMENT</td>\n",
       "      <td>Brazil</td>\n",
       "      <td>11/1/17</td>\n",
       "    </tr>\n",
       "    <tr>\n",
       "      <th>12</th>\n",
       "      <td>COORDINATOR</td>\n",
       "      <td>CIVIL SOCIETY</td>\n",
       "      <td>Cameroon</td>\n",
       "      <td>11/1/17</td>\n",
       "    </tr>\n",
       "  </tbody>\n",
       "</table>\n",
       "</div>"
      ],
      "text/plain": [
       "                  Position Type of institution   Country Purchase date\n",
       "Ticket id                                                             \n",
       "3                      CEO       CIVIL SOCIETY  Pakistan      10/30/17\n",
       "5                  MANAGER       CIVIL SOCIETY     India      10/31/17\n",
       "8          SYSTEMS ANALYST             PRIVATE    Brazil       11/1/17\n",
       "9          SYSTEMS ANALYST          GOVERNMENT    Brazil       11/1/17\n",
       "12             COORDINATOR       CIVIL SOCIETY  Cameroon       11/1/17"
      ]
     },
     "execution_count": 22,
     "metadata": {},
     "output_type": "execute_result"
    }
   ],
   "source": [
    "tickets_no_Other.head()"
   ]
  },
  {
   "cell_type": "code",
   "execution_count": 23,
   "metadata": {},
   "outputs": [],
   "source": [
    "country_continent = pd.read_csv(r'/Users/mathias/Downloads/Country_to_continent.csv')"
   ]
  },
  {
   "cell_type": "code",
   "execution_count": 24,
   "metadata": {},
   "outputs": [
    {
     "data": {
      "text/html": [
       "<div>\n",
       "<style scoped>\n",
       "    .dataframe tbody tr th:only-of-type {\n",
       "        vertical-align: middle;\n",
       "    }\n",
       "\n",
       "    .dataframe tbody tr th {\n",
       "        vertical-align: top;\n",
       "    }\n",
       "\n",
       "    .dataframe thead th {\n",
       "        text-align: right;\n",
       "    }\n",
       "</style>\n",
       "<table border=\"1\" class=\"dataframe\">\n",
       "  <thead>\n",
       "    <tr style=\"text-align: right;\">\n",
       "      <th></th>\n",
       "      <th>Continent</th>\n",
       "      <th>Country</th>\n",
       "    </tr>\n",
       "  </thead>\n",
       "  <tbody>\n",
       "    <tr>\n",
       "      <th>0</th>\n",
       "      <td>Africa</td>\n",
       "      <td>Algeria</td>\n",
       "    </tr>\n",
       "    <tr>\n",
       "      <th>1</th>\n",
       "      <td>Africa</td>\n",
       "      <td>Angola</td>\n",
       "    </tr>\n",
       "    <tr>\n",
       "      <th>2</th>\n",
       "      <td>Africa</td>\n",
       "      <td>Benin</td>\n",
       "    </tr>\n",
       "    <tr>\n",
       "      <th>3</th>\n",
       "      <td>Africa</td>\n",
       "      <td>Botswana</td>\n",
       "    </tr>\n",
       "    <tr>\n",
       "      <th>4</th>\n",
       "      <td>Africa</td>\n",
       "      <td>Burkina</td>\n",
       "    </tr>\n",
       "  </tbody>\n",
       "</table>\n",
       "</div>"
      ],
      "text/plain": [
       "  Continent   Country\n",
       "0    Africa   Algeria\n",
       "1    Africa    Angola\n",
       "2    Africa     Benin\n",
       "3    Africa  Botswana\n",
       "4    Africa   Burkina"
      ]
     },
     "execution_count": 24,
     "metadata": {},
     "output_type": "execute_result"
    }
   ],
   "source": [
    "country_continent.head()"
   ]
  },
  {
   "cell_type": "code",
   "execution_count": 25,
   "metadata": {},
   "outputs": [],
   "source": [
    "tableau = pd.merge(tickets_no_Other, country_continent, left_on='Country', right_on='Country')"
   ]
  },
  {
   "cell_type": "code",
   "execution_count": 26,
   "metadata": {},
   "outputs": [
    {
     "data": {
      "text/html": [
       "<div>\n",
       "<style scoped>\n",
       "    .dataframe tbody tr th:only-of-type {\n",
       "        vertical-align: middle;\n",
       "    }\n",
       "\n",
       "    .dataframe tbody tr th {\n",
       "        vertical-align: top;\n",
       "    }\n",
       "\n",
       "    .dataframe thead th {\n",
       "        text-align: right;\n",
       "    }\n",
       "</style>\n",
       "<table border=\"1\" class=\"dataframe\">\n",
       "  <thead>\n",
       "    <tr style=\"text-align: right;\">\n",
       "      <th></th>\n",
       "      <th>Position</th>\n",
       "      <th>Type of institution</th>\n",
       "      <th>Country</th>\n",
       "      <th>Purchase date</th>\n",
       "      <th>Continent</th>\n",
       "    </tr>\n",
       "  </thead>\n",
       "  <tbody>\n",
       "    <tr>\n",
       "      <th>0</th>\n",
       "      <td>CEO</td>\n",
       "      <td>CIVIL SOCIETY</td>\n",
       "      <td>Pakistan</td>\n",
       "      <td>10/30/17</td>\n",
       "      <td>Asia</td>\n",
       "    </tr>\n",
       "    <tr>\n",
       "      <th>1</th>\n",
       "      <td>CHAIRMAN</td>\n",
       "      <td>CIVIL SOCIETY</td>\n",
       "      <td>Pakistan</td>\n",
       "      <td>12/6/17</td>\n",
       "      <td>Asia</td>\n",
       "    </tr>\n",
       "    <tr>\n",
       "      <th>2</th>\n",
       "      <td>COORDINATOR</td>\n",
       "      <td>CIVIL SOCIETY</td>\n",
       "      <td>Pakistan</td>\n",
       "      <td>12/8/17</td>\n",
       "      <td>Asia</td>\n",
       "    </tr>\n",
       "    <tr>\n",
       "      <th>3</th>\n",
       "      <td>CHAIRMAN</td>\n",
       "      <td>CIVIL SOCIETY</td>\n",
       "      <td>Pakistan</td>\n",
       "      <td>12/12/17</td>\n",
       "      <td>Asia</td>\n",
       "    </tr>\n",
       "    <tr>\n",
       "      <th>4</th>\n",
       "      <td>CHAIRMAN</td>\n",
       "      <td>CIVIL SOCIETY</td>\n",
       "      <td>Pakistan</td>\n",
       "      <td>12/13/17</td>\n",
       "      <td>Asia</td>\n",
       "    </tr>\n",
       "  </tbody>\n",
       "</table>\n",
       "</div>"
      ],
      "text/plain": [
       "      Position Type of institution   Country Purchase date Continent\n",
       "0          CEO       CIVIL SOCIETY  Pakistan      10/30/17      Asia\n",
       "1     CHAIRMAN       CIVIL SOCIETY  Pakistan       12/6/17      Asia\n",
       "2  COORDINATOR       CIVIL SOCIETY  Pakistan       12/8/17      Asia\n",
       "3     CHAIRMAN       CIVIL SOCIETY  Pakistan      12/12/17      Asia\n",
       "4     CHAIRMAN       CIVIL SOCIETY  Pakistan      12/13/17      Asia"
      ]
     },
     "execution_count": 26,
     "metadata": {},
     "output_type": "execute_result"
    }
   ],
   "source": [
    "tableau.head()"
   ]
  },
  {
   "cell_type": "markdown",
   "metadata": {},
   "source": [
    "## Numérisation"
   ]
  },
  {
   "cell_type": "code",
   "execution_count": 27,
   "metadata": {},
   "outputs": [
    {
     "data": {
      "text/html": [
       "<div>\n",
       "<style scoped>\n",
       "    .dataframe tbody tr th:only-of-type {\n",
       "        vertical-align: middle;\n",
       "    }\n",
       "\n",
       "    .dataframe tbody tr th {\n",
       "        vertical-align: top;\n",
       "    }\n",
       "\n",
       "    .dataframe thead th {\n",
       "        text-align: right;\n",
       "    }\n",
       "</style>\n",
       "<table border=\"1\" class=\"dataframe\">\n",
       "  <thead>\n",
       "    <tr style=\"text-align: right;\">\n",
       "      <th></th>\n",
       "      <th>Position</th>\n",
       "      <th>Type of institution</th>\n",
       "      <th>Country</th>\n",
       "      <th>Purchase date</th>\n",
       "      <th>Continent</th>\n",
       "    </tr>\n",
       "  </thead>\n",
       "  <tbody>\n",
       "    <tr>\n",
       "      <th>0</th>\n",
       "      <td>CEO</td>\n",
       "      <td>CIVIL SOCIETY</td>\n",
       "      <td>Pakistan</td>\n",
       "      <td>2017-10-30</td>\n",
       "      <td>Asia</td>\n",
       "    </tr>\n",
       "    <tr>\n",
       "      <th>1</th>\n",
       "      <td>CHAIRMAN</td>\n",
       "      <td>CIVIL SOCIETY</td>\n",
       "      <td>Pakistan</td>\n",
       "      <td>2017-12-06</td>\n",
       "      <td>Asia</td>\n",
       "    </tr>\n",
       "    <tr>\n",
       "      <th>2</th>\n",
       "      <td>COORDINATOR</td>\n",
       "      <td>CIVIL SOCIETY</td>\n",
       "      <td>Pakistan</td>\n",
       "      <td>2017-12-08</td>\n",
       "      <td>Asia</td>\n",
       "    </tr>\n",
       "    <tr>\n",
       "      <th>3</th>\n",
       "      <td>CHAIRMAN</td>\n",
       "      <td>CIVIL SOCIETY</td>\n",
       "      <td>Pakistan</td>\n",
       "      <td>2017-12-12</td>\n",
       "      <td>Asia</td>\n",
       "    </tr>\n",
       "    <tr>\n",
       "      <th>4</th>\n",
       "      <td>CHAIRMAN</td>\n",
       "      <td>CIVIL SOCIETY</td>\n",
       "      <td>Pakistan</td>\n",
       "      <td>2017-12-13</td>\n",
       "      <td>Asia</td>\n",
       "    </tr>\n",
       "  </tbody>\n",
       "</table>\n",
       "</div>"
      ],
      "text/plain": [
       "      Position Type of institution   Country Purchase date Continent\n",
       "0          CEO       CIVIL SOCIETY  Pakistan    2017-10-30      Asia\n",
       "1     CHAIRMAN       CIVIL SOCIETY  Pakistan    2017-12-06      Asia\n",
       "2  COORDINATOR       CIVIL SOCIETY  Pakistan    2017-12-08      Asia\n",
       "3     CHAIRMAN       CIVIL SOCIETY  Pakistan    2017-12-12      Asia\n",
       "4     CHAIRMAN       CIVIL SOCIETY  Pakistan    2017-12-13      Asia"
      ]
     },
     "execution_count": 27,
     "metadata": {},
     "output_type": "execute_result"
    }
   ],
   "source": [
    "tableau['Purchase date']= pd.to_datetime(tableau['Purchase date'])\n",
    "tableau= tableau.dropna()\n",
    "tableau.head()"
   ]
  },
  {
   "cell_type": "code",
   "execution_count": 28,
   "metadata": {},
   "outputs": [
    {
     "data": {
      "image/png": "[encoded data removed]",
      "text/plain": [
       "<Figure size 432x288 with 1 Axes>"
      ]
     },
     "metadata": {
      "needs_background": "light"
     },
     "output_type": "display_data"
    }
   ],
   "source": [
    "import matplotlib.pyplot as plt\n",
    "plt.scatter(tableau['Purchase date'],tableau['Type of institution'],)\n",
    "plt.show()\n",
    "\n",
    "dico_institution = {'FARMERS':0,\n",
    "                    'SCHOOL':1,\n",
    "                    'GENDER MOVEMENTS': 2,\n",
    "                    'LOCAL COMMUNITIES': 3,\n",
    "                    'INDIVIDUALS':4,\n",
    "                    'INDIGENOUS MOVEMENTS':5,\n",
    "                    'GOVERNMENT':6,\n",
    "                    'ACADEMY':7,\n",
    "                    'YOUTH MOVEMENTS':8,\n",
    "                    'INTERNATIONAL ORGANIZATIONS':9,\n",
    "                    'PRIVATE':10,\n",
    "                    'CIVIL SOCIETY':11\n",
    "                   }"
   ]
  },
  {
   "cell_type": "code",
   "execution_count": 29,
   "metadata": {},
   "outputs": [
    {
     "data": {
      "image/png": "[encoded data removed]",
      "text/plain": [
       "<Figure size 432x288 with 1 Axes>"
      ]
     },
     "metadata": {
      "needs_background": "light"
     },
     "output_type": "display_data"
    }
   ],
   "source": [
    "import matplotlib.pyplot as plt\n",
    "plt.scatter(tableau['Purchase date'],tableau['Position'],)\n",
    "plt.show()\n",
    "\n",
    "dico_position = {'STUDENT':0,\n",
    "                 'TEACHER':1,\n",
    "                 'DIRECTOR':2,\n",
    "                 'MANAGER':3,\n",
    "                 'SYSTEMS ANALYST':4,\n",
    "                 'COORDINATOR':5,\n",
    "                 'CHAIRMAN':6,\n",
    "                 'CEO':7\n",
    "                }"
   ]
  },
  {
   "cell_type": "code",
   "execution_count": 30,
   "metadata": {},
   "outputs": [
    {
     "data": {
      "image/png": "[encoded data removed]",
      "text/plain": [
       "<Figure size 432x288 with 1 Axes>"
      ]
     },
     "metadata": {
      "needs_background": "light"
     },
     "output_type": "display_data"
    }
   ],
   "source": [
    "import matplotlib.pyplot as plt\n",
    "plt.scatter(tableau['Purchase date'],tableau['Continent'],)\n",
    "plt.show()\n",
    "\n",
    "dico_continent = {'Oceania':0,\n",
    "                  'North America':1,\n",
    "                  'Europe':2,\n",
    "                  'Africa':3,\n",
    "                  'South America':4,\n",
    "                  'Asia':5\n",
    "                 }"
   ]
  },
  {
   "cell_type": "code",
   "execution_count": 31,
   "metadata": {},
   "outputs": [
    {
     "data": {
      "text/html": [
       "<div>\n",
       "<style scoped>\n",
       "    .dataframe tbody tr th:only-of-type {\n",
       "        vertical-align: middle;\n",
       "    }\n",
       "\n",
       "    .dataframe tbody tr th {\n",
       "        vertical-align: top;\n",
       "    }\n",
       "\n",
       "    .dataframe thead th {\n",
       "        text-align: right;\n",
       "    }\n",
       "</style>\n",
       "<table border=\"1\" class=\"dataframe\">\n",
       "  <thead>\n",
       "    <tr style=\"text-align: right;\">\n",
       "      <th></th>\n",
       "      <th>Position</th>\n",
       "      <th>Type of institution</th>\n",
       "      <th>Country</th>\n",
       "      <th>Purchase date</th>\n",
       "      <th>Continent</th>\n",
       "    </tr>\n",
       "  </thead>\n",
       "  <tbody>\n",
       "    <tr>\n",
       "      <th>0</th>\n",
       "      <td>CEO</td>\n",
       "      <td>CIVIL SOCIETY</td>\n",
       "      <td>Pakistan</td>\n",
       "      <td>2017-10-30</td>\n",
       "      <td>Asia</td>\n",
       "    </tr>\n",
       "    <tr>\n",
       "      <th>1</th>\n",
       "      <td>CHAIRMAN</td>\n",
       "      <td>CIVIL SOCIETY</td>\n",
       "      <td>Pakistan</td>\n",
       "      <td>2017-12-06</td>\n",
       "      <td>Asia</td>\n",
       "    </tr>\n",
       "    <tr>\n",
       "      <th>2</th>\n",
       "      <td>COORDINATOR</td>\n",
       "      <td>CIVIL SOCIETY</td>\n",
       "      <td>Pakistan</td>\n",
       "      <td>2017-12-08</td>\n",
       "      <td>Asia</td>\n",
       "    </tr>\n",
       "    <tr>\n",
       "      <th>3</th>\n",
       "      <td>CHAIRMAN</td>\n",
       "      <td>CIVIL SOCIETY</td>\n",
       "      <td>Pakistan</td>\n",
       "      <td>2017-12-12</td>\n",
       "      <td>Asia</td>\n",
       "    </tr>\n",
       "    <tr>\n",
       "      <th>4</th>\n",
       "      <td>CHAIRMAN</td>\n",
       "      <td>CIVIL SOCIETY</td>\n",
       "      <td>Pakistan</td>\n",
       "      <td>2017-12-13</td>\n",
       "      <td>Asia</td>\n",
       "    </tr>\n",
       "  </tbody>\n",
       "</table>\n",
       "</div>"
      ],
      "text/plain": [
       "      Position Type of institution   Country Purchase date Continent\n",
       "0          CEO       CIVIL SOCIETY  Pakistan    2017-10-30      Asia\n",
       "1     CHAIRMAN       CIVIL SOCIETY  Pakistan    2017-12-06      Asia\n",
       "2  COORDINATOR       CIVIL SOCIETY  Pakistan    2017-12-08      Asia\n",
       "3     CHAIRMAN       CIVIL SOCIETY  Pakistan    2017-12-12      Asia\n",
       "4     CHAIRMAN       CIVIL SOCIETY  Pakistan    2017-12-13      Asia"
      ]
     },
     "execution_count": 31,
     "metadata": {},
     "output_type": "execute_result"
    }
   ],
   "source": [
    "# Définit une fonction générique en utilisant la fonction replace de Pandas\n",
    "def coding(col, codeDict):\n",
    "    colCoded = pd.Series(col, copy=True)\n",
    "    for key, value in codeDict.items():\n",
    "        colCoded.replace(key, value, inplace=True)\n",
    "    return colCoded\n",
    "tableau.head()"
   ]
  },
  {
   "cell_type": "code",
   "execution_count": 32,
   "metadata": {},
   "outputs": [
    {
     "name": "stdout",
     "output_type": "stream",
     "text": [
      "Avant codage:\n",
      "GOVERNMENT                     1329\n",
      "CIVIL SOCIETY                   700\n",
      "PRIVATE                         629\n",
      "INTERNATIONAL ORGANIZATIONS     204\n",
      "ACADEMY                          90\n",
      "INDIVIDUALS                      29\n",
      "YOUTH MOVEMENTS                  16\n",
      "LOCAL COMMUNITIES                13\n",
      "FARMERS                           5\n",
      "SCHOOL                            3\n",
      "GENDER MOVEMENTS                  1\n",
      "INDIGENOUS MOVEMENTS              1\n",
      "Name: Type of institution, dtype: int64\n",
      "\n",
      "Après codage:\n",
      "6     1329\n",
      "11     700\n",
      "10     629\n",
      "9      204\n",
      "7       90\n",
      "4       29\n",
      "8       16\n",
      "3       13\n",
      "0        5\n",
      "1        3\n",
      "5        1\n",
      "2        1\n",
      "Name: Type of institution, dtype: int64\n"
     ]
    }
   ],
   "source": [
    "# Transformation pour les institutions :\n",
    "\n",
    "print('Avant codage:')\n",
    "print(pd.value_counts(tableau[\"Type of institution\"]))\n",
    "tableau[\"Type of institution\"] = coding(tableau[\"Type of institution\"], dico_institution)\n",
    "print('\\nAprès codage:')\n",
    "print(pd.value_counts(tableau[\"Type of institution\"]))"
   ]
  },
  {
   "cell_type": "code",
   "execution_count": 33,
   "metadata": {},
   "outputs": [
    {
     "name": "stdout",
     "output_type": "stream",
     "text": [
      "Avant codage:\n",
      "DIRECTOR           945\n",
      "COORDINATOR        752\n",
      "MANAGER            623\n",
      "SYSTEMS ANALYST    265\n",
      "CHAIRMAN           240\n",
      "CEO                182\n",
      "STUDENT              7\n",
      "TEACHER              6\n",
      "Name: Position, dtype: int64\n",
      "\n",
      "Après codage:\n",
      "2    945\n",
      "5    752\n",
      "3    623\n",
      "4    265\n",
      "6    240\n",
      "7    182\n",
      "0      7\n",
      "1      6\n",
      "Name: Position, dtype: int64\n"
     ]
    }
   ],
   "source": [
    "# Transformation pour les positions :\n",
    "\n",
    "print('Avant codage:')\n",
    "print(pd.value_counts(tableau[\"Position\"]))\n",
    "tableau[\"Position\"] = coding(tableau[\"Position\"], dico_position)\n",
    "print('\\nAprès codage:')\n",
    "print(pd.value_counts(tableau[\"Position\"]))"
   ]
  },
  {
   "cell_type": "code",
   "execution_count": 34,
   "metadata": {},
   "outputs": [
    {
     "name": "stdout",
     "output_type": "stream",
     "text": [
      "Continent\n",
      "South America    1874\n",
      "Europe            404\n",
      "Africa            332\n",
      "Asia              290\n",
      "North America     108\n",
      "Oceania            12\n",
      "Name: Continent, dtype: int64\n",
      "\n",
      "Après codage:\n",
      "4    1874\n",
      "2     404\n",
      "3     332\n",
      "5     290\n",
      "1     108\n",
      "0      12\n",
      "Name: Continent, dtype: int64\n"
     ]
    }
   ],
   "source": [
    "# Transformation pour les continents :\n",
    "\n",
    "print('Continent')\n",
    "print(pd.value_counts(tableau['Continent']))\n",
    "tableau['Continent'] = coding(tableau['Continent'], dico_continent)\n",
    "print('\\nAprès codage:')\n",
    "print(pd.value_counts(tableau['Continent']))"
   ]
  },
  {
   "cell_type": "code",
   "execution_count": 35,
   "metadata": {},
   "outputs": [
    {
     "data": {
      "text/html": [
       "<div>\n",
       "<style scoped>\n",
       "    .dataframe tbody tr th:only-of-type {\n",
       "        vertical-align: middle;\n",
       "    }\n",
       "\n",
       "    .dataframe tbody tr th {\n",
       "        vertical-align: top;\n",
       "    }\n",
       "\n",
       "    .dataframe thead th {\n",
       "        text-align: right;\n",
       "    }\n",
       "</style>\n",
       "<table border=\"1\" class=\"dataframe\">\n",
       "  <thead>\n",
       "    <tr style=\"text-align: right;\">\n",
       "      <th></th>\n",
       "      <th>Position</th>\n",
       "      <th>Type of institution</th>\n",
       "      <th>Country</th>\n",
       "      <th>Purchase date</th>\n",
       "      <th>Continent</th>\n",
       "    </tr>\n",
       "  </thead>\n",
       "  <tbody>\n",
       "    <tr>\n",
       "      <th>0</th>\n",
       "      <td>7</td>\n",
       "      <td>11</td>\n",
       "      <td>Pakistan</td>\n",
       "      <td>2017-10-30</td>\n",
       "      <td>5</td>\n",
       "    </tr>\n",
       "    <tr>\n",
       "      <th>1</th>\n",
       "      <td>6</td>\n",
       "      <td>11</td>\n",
       "      <td>Pakistan</td>\n",
       "      <td>2017-12-06</td>\n",
       "      <td>5</td>\n",
       "    </tr>\n",
       "    <tr>\n",
       "      <th>2</th>\n",
       "      <td>5</td>\n",
       "      <td>11</td>\n",
       "      <td>Pakistan</td>\n",
       "      <td>2017-12-08</td>\n",
       "      <td>5</td>\n",
       "    </tr>\n",
       "    <tr>\n",
       "      <th>3</th>\n",
       "      <td>6</td>\n",
       "      <td>11</td>\n",
       "      <td>Pakistan</td>\n",
       "      <td>2017-12-12</td>\n",
       "      <td>5</td>\n",
       "    </tr>\n",
       "    <tr>\n",
       "      <th>4</th>\n",
       "      <td>6</td>\n",
       "      <td>11</td>\n",
       "      <td>Pakistan</td>\n",
       "      <td>2017-12-13</td>\n",
       "      <td>5</td>\n",
       "    </tr>\n",
       "  </tbody>\n",
       "</table>\n",
       "</div>"
      ],
      "text/plain": [
       "   Position  Type of institution   Country Purchase date  Continent\n",
       "0         7                   11  Pakistan    2017-10-30          5\n",
       "1         6                   11  Pakistan    2017-12-06          5\n",
       "2         5                   11  Pakistan    2017-12-08          5\n",
       "3         6                   11  Pakistan    2017-12-12          5\n",
       "4         6                   11  Pakistan    2017-12-13          5"
      ]
     },
     "execution_count": 35,
     "metadata": {},
     "output_type": "execute_result"
    }
   ],
   "source": [
    "tableau.head()"
   ]
  },
  {
   "cell_type": "code",
   "execution_count": 36,
   "metadata": {},
   "outputs": [],
   "source": [
    "import time\n",
    "from datetime import datetime\n",
    "for i in range(len(tableau)):\n",
    "    date = tableau.iloc[i,3]\n",
    "    tableau.iloc[i,3] = int(round(date.timestamp() * 1000))"
   ]
  },
  {
   "cell_type": "code",
   "execution_count": 37,
   "metadata": {},
   "outputs": [
    {
     "data": {
      "text/html": [
       "<div>\n",
       "<style scoped>\n",
       "    .dataframe tbody tr th:only-of-type {\n",
       "        vertical-align: middle;\n",
       "    }\n",
       "\n",
       "    .dataframe tbody tr th {\n",
       "        vertical-align: top;\n",
       "    }\n",
       "\n",
       "    .dataframe thead th {\n",
       "        text-align: right;\n",
       "    }\n",
       "</style>\n",
       "<table border=\"1\" class=\"dataframe\">\n",
       "  <thead>\n",
       "    <tr style=\"text-align: right;\">\n",
       "      <th></th>\n",
       "      <th>Position</th>\n",
       "      <th>Type of institution</th>\n",
       "      <th>Country</th>\n",
       "      <th>Purchase date</th>\n",
       "      <th>Continent</th>\n",
       "    </tr>\n",
       "  </thead>\n",
       "  <tbody>\n",
       "    <tr>\n",
       "      <th>0</th>\n",
       "      <td>7</td>\n",
       "      <td>11</td>\n",
       "      <td>Pakistan</td>\n",
       "      <td>1509321600000</td>\n",
       "      <td>5</td>\n",
       "    </tr>\n",
       "    <tr>\n",
       "      <th>1</th>\n",
       "      <td>6</td>\n",
       "      <td>11</td>\n",
       "      <td>Pakistan</td>\n",
       "      <td>1512518400000</td>\n",
       "      <td>5</td>\n",
       "    </tr>\n",
       "    <tr>\n",
       "      <th>2</th>\n",
       "      <td>5</td>\n",
       "      <td>11</td>\n",
       "      <td>Pakistan</td>\n",
       "      <td>1512691200000</td>\n",
       "      <td>5</td>\n",
       "    </tr>\n",
       "    <tr>\n",
       "      <th>3</th>\n",
       "      <td>6</td>\n",
       "      <td>11</td>\n",
       "      <td>Pakistan</td>\n",
       "      <td>1513036800000</td>\n",
       "      <td>5</td>\n",
       "    </tr>\n",
       "    <tr>\n",
       "      <th>4</th>\n",
       "      <td>6</td>\n",
       "      <td>11</td>\n",
       "      <td>Pakistan</td>\n",
       "      <td>1513123200000</td>\n",
       "      <td>5</td>\n",
       "    </tr>\n",
       "    <tr>\n",
       "      <th>...</th>\n",
       "      <td>...</td>\n",
       "      <td>...</td>\n",
       "      <td>...</td>\n",
       "      <td>...</td>\n",
       "      <td>...</td>\n",
       "    </tr>\n",
       "    <tr>\n",
       "      <th>3027</th>\n",
       "      <td>6</td>\n",
       "      <td>9</td>\n",
       "      <td>Mauritania</td>\n",
       "      <td>1520899200000</td>\n",
       "      <td>3</td>\n",
       "    </tr>\n",
       "    <tr>\n",
       "      <th>3028</th>\n",
       "      <td>2</td>\n",
       "      <td>9</td>\n",
       "      <td>Mauritania</td>\n",
       "      <td>1520899200000</td>\n",
       "      <td>3</td>\n",
       "    </tr>\n",
       "    <tr>\n",
       "      <th>3029</th>\n",
       "      <td>2</td>\n",
       "      <td>9</td>\n",
       "      <td>Mauritania</td>\n",
       "      <td>1520899200000</td>\n",
       "      <td>3</td>\n",
       "    </tr>\n",
       "    <tr>\n",
       "      <th>3030</th>\n",
       "      <td>3</td>\n",
       "      <td>9</td>\n",
       "      <td>Mauritania</td>\n",
       "      <td>1520899200000</td>\n",
       "      <td>3</td>\n",
       "    </tr>\n",
       "    <tr>\n",
       "      <th>3031</th>\n",
       "      <td>2</td>\n",
       "      <td>6</td>\n",
       "      <td>Romania</td>\n",
       "      <td>1520812800000</td>\n",
       "      <td>2</td>\n",
       "    </tr>\n",
       "  </tbody>\n",
       "</table>\n",
       "<p>3015 rows × 5 columns</p>\n",
       "</div>"
      ],
      "text/plain": [
       "      Position  Type of institution     Country  Purchase date  Continent\n",
       "0            7                   11    Pakistan  1509321600000          5\n",
       "1            6                   11    Pakistan  1512518400000          5\n",
       "2            5                   11    Pakistan  1512691200000          5\n",
       "3            6                   11    Pakistan  1513036800000          5\n",
       "4            6                   11    Pakistan  1513123200000          5\n",
       "...        ...                  ...         ...            ...        ...\n",
       "3027         6                    9  Mauritania  1520899200000          3\n",
       "3028         2                    9  Mauritania  1520899200000          3\n",
       "3029         2                    9  Mauritania  1520899200000          3\n",
       "3030         3                    9  Mauritania  1520899200000          3\n",
       "3031         2                    6     Romania  1520812800000          2\n",
       "\n",
       "[3015 rows x 5 columns]"
      ]
     },
     "execution_count": 37,
     "metadata": {},
     "output_type": "execute_result"
    }
   ],
   "source": [
    "tableau.head(-5)"
   ]
  },
  {
   "cell_type": "markdown",
   "metadata": {},
   "source": [
    "# IA "
   ]
  },
  {
   "cell_type": "markdown",
   "metadata": {},
   "source": [
    "Utilisation d'un random forest pour predire à partir du continent, de la position et du type d'institution le jour d'achat du ticket pour le forum."
   ]
  },
  {
   "cell_type": "code",
   "execution_count": 38,
   "metadata": {},
   "outputs": [],
   "source": [
    "#Basic imports\n",
    "from sklearn.ensemble import RandomForestRegressor\n",
    "from sklearn.model_selection import train_test_split\n",
    "from sklearn.metrics import mean_squared_error as MSE\n",
    "# Creation des labels et des features\n",
    "X = tableau[['Position','Type of institution', 'Continent']]\n",
    "y= tableau['Purchase date']\n",
    "#Set seed for reproducibility\n",
    "SEED  = 1\n",
    "\n",
    "#Split dataset into 70% train and 30% test\n",
    "X_train, X_test, y_train, y_test = train_test_split(X,y, test_size=0.3, random_state=SEED)"
   ]
  },
  {
   "cell_type": "code",
   "execution_count": 39,
   "metadata": {},
   "outputs": [],
   "source": [
    "# Instantiate a ramdon forests regressor 'rf' 400 estimators\n",
    "\n",
    "rf = RandomForestRegressor(n_estimators=400, random_state=SEED)\n",
    "\n"
   ]
  },
  {
   "cell_type": "code",
   "execution_count": 493,
   "metadata": {},
   "outputs": [],
   "source": [
    "# Fit 'rf' to the training set\n",
    "rf.fit(X_train, y_train)\n",
    "\n",
    "# Predict the test set labels 'ypred'\n",
    "y_pred=rf.predict(X_test)\n"
   ]
  },
  {
   "cell_type": "code",
   "execution_count": 494,
   "metadata": {},
   "outputs": [
    {
     "name": "stdout",
     "output_type": "stream",
     "text": [
      "Test set RMSE (milliseconds) of rf: 2335146420.61\n"
     ]
    }
   ],
   "source": [
    "# Import mean_squared_error as MSE\n",
    "from sklearn.metrics import mean_squared_error as MSE\n",
    "\n",
    "# Predict the test set labels\n",
    "y_pred = rf.predict(X_test)\n",
    "\n",
    "# Evaluate the test set RMSE\n",
    "rmse_test = MSE(y_test, y_pred)**(1/2)\n",
    "\n",
    "# Print rmse_test\n",
    "print('Test set RMSE (milliseconds) of rf: {:.2f}'.format(rmse_test))"
   ]
  },
  {
   "cell_type": "markdown",
   "metadata": {},
   "source": [
    "# Erreur sur le jour"
   ]
  },
  {
   "cell_type": "code",
   "execution_count": 497,
   "metadata": {},
   "outputs": [
    {
     "name": "stdout",
     "output_type": "stream",
     "text": [
      "Erreur Quadratique moyenne sur le jour (en jour) : \n",
      "\n",
      "27\n"
     ]
    }
   ],
   "source": [
    "erreur_jour = rmse_test/1000/60/60/24\n",
    "\n",
    "print('Erreur Quadratique moyenne sur le jour (en jour) : \\n')\n",
    "print(int(erreur_jour))"
   ]
  },
  {
   "cell_type": "markdown",
   "metadata": {},
   "source": [
    "# Importance des caractéristiques"
   ]
  },
  {
   "cell_type": "code",
   "execution_count": 498,
   "metadata": {},
   "outputs": [
    {
     "data": {
      "image/png": "[encoded data removed]",
      "text/plain": [
       "<Figure size 432x288 with 1 Axes>"
      ]
     },
     "metadata": {
      "needs_background": "light"
     },
     "output_type": "display_data"
    }
   ],
   "source": [
    "# Create a pd.Series of features importances\n",
    "importances = pd.Series(data=rf.feature_importances_,\n",
    "                        index= X_train.columns)\n",
    "\n",
    "# Sort importances\n",
    "importances_sorted = importances.sort_values()\n",
    "\n",
    "# Draw a horizontal barplot of importances_sorted\n",
    "importances_sorted.plot(kind='barh', color='grey')\n",
    "plt.title('Features Importances')\n",
    "plt.show()"
   ]
  },
  {
   "cell_type": "code",
   "execution_count": null,
   "metadata": {},
   "outputs": [],
   "source": []
  }
 ],
 "metadata": {
  "kernelspec": {
   "display_name": "Python 3",
   "language": "python",
   "name": "python3"
  },
  "language_info": {
   "codemirror_mode": {
    "name": "ipython",
    "version": 3
   },
   "file_extension": ".py",
   "mimetype": "text/x-python",
   "name": "python",
   "nbconvert_exporter": "python",
   "pygments_lexer": "ipython3",
   "version": "3.7.6"
  }
 },
 "nbformat": 4,
 "nbformat_minor": 4
}
